{
  "nbformat": 4,
  "nbformat_minor": 0,
  "metadata": {
    "colab": {
      "private_outputs": true,
      "provenance": [],
      "collapsed_sections": [
        "vncDsAP0Gaoa",
        "FJNUwmbgGyua",
        "w6K7xa23Elo4",
        "yQaldy8SH6Dl",
        "PH-0ReGfmX4f",
        "mDgbUHAGgjLW",
        "HhfV-JJviCcP",
        "Y3lxredqlCYt",
        "3RnN4peoiCZX",
        "x71ZqKXriCWQ",
        "7hBIi_osiCS2",
        "JlHwYmJAmNHm",
        "35m5QtbWiB9F",
        "PoPl-ycgm1ru",
        "H0kj-8xxnORC",
        "nA9Y7ga8ng1Z",
        "PBTbrJXOngz2",
        "u3PMJOP6ngxN",
        "dauF4eBmngu3",
        "bKJF3rekwFvQ",
        "hubup1Bij-Cc",
        "Jm7Nhj9liUs0",
        "MSa1f5Uengrz",
        "GF8Ens_Soomf",
        "uV4s_j85kZTE",
        "0wOQAZs5pc--",
        "K5QZ13OEpz2H",
        "lQ7QKXXCp7Bj",
        "448CDAPjqfQr",
        "KSlN3yHqYklG",
        "t6dVpIINYklI",
        "ijmpgYnKYklI",
        "-JiQyfWJYklI",
        "EM7whBJCYoAo",
        "fge-S5ZAYoAp",
        "85gYPyotYoAp",
        "RoGjAbkUYoAp",
        "4Of9eVA-YrdM",
        "iky9q4vBYrdO",
        "F6T5p64dYrdO",
        "y-Ehk30pYrdP",
        "bamQiAODYuh1",
        "QHF8YVU7Yuh3",
        "GwzvFGzlYuh3",
        "qYpmQ266Yuh3",
        "OH-pJp9IphqM",
        "bbFf2-_FphqN",
        "_ouA3fa0phqN",
        "Seke61FWphqN",
        "PIIx-8_IphqN",
        "t27r6nlMphqO",
        "r2jJGEOYphqO",
        "b0JNsNcRphqO",
        "BZR9WyysphqO",
        "jj7wYXLtphqO",
        "eZrbJ2SmphqO",
        "rFu4xreNphqO",
        "AAWeE7tKsZO-",
        "YJ55k-q6phqO",
        "gCFgpxoyphqP",
        "OVtJsKN_phqQ",
        "lssrdh5qphqQ",
        "U2RJ9gkRphqQ",
        "1M8mcRywphqQ",
        "tgIPom80phqQ",
        "JMzcOPDDphqR",
        "x-EpHcCOp1ci",
        "X_VqEhTip1ck",
        "8zGJKyg5p1ck",
        "PVzmfK_Ep1ck",
        "n3dbpmDWp1ck",
        "ylSl6qgtp1ck",
        "ZWILFDl5p1ck",
        "Ag9LCva-p1cl",
        "E6MkPsBcp1cl",
        "2cELzS2fp1cl",
        "3MPXvC8up1cl",
        "NC_X3p0fY2L0",
        "UV0SzAkaZNRQ",
        "YPEH6qLeZNRQ",
        "q29F0dvdveiT",
        "EXh0U9oCveiU",
        "22aHeOlLveiV",
        "JcMwzZxoAimU",
        "8G2x9gOozGDZ",
        "gCX9965dhzqZ",
        "gIfDvo9L0UH2"
      ],
      "include_colab_link": true
    },
    "kernelspec": {
      "name": "python3",
      "display_name": "Python 3"
    },
    "language_info": {
      "name": "python"
    }
  },
  "cells": [
    {
      "cell_type": "markdown",
      "metadata": {
        "id": "view-in-github",
        "colab_type": "text"
      },
      "source": [
        "<a href=\"https://colab.research.google.com/github/sandeshhalappagol/Capstone-Project-1/blob/main/EDA_Hotel_Booking_FB.ipynb\" target=\"_parent\"><img src=\"https://colab.research.google.com/assets/colab-badge.svg\" alt=\"Open In Colab\"/></a>"
      ]
    },
    {
      "cell_type": "markdown",
      "source": [
        "#**Project Name**    - **Hotel Booking Analysis**\n",
        "\n"
      ],
      "metadata": {
        "id": "vncDsAP0Gaoa"
      }
    },
    {
      "cell_type": "markdown",
      "source": [
        "##### **Project Type**    - EDA\n",
        "##### **Contribution**    - Individual\n",
        "##### **Contribution**    - Sandesh M H\n"
      ],
      "metadata": {
        "id": "beRrZCGUAJYm"
      }
    },
    {
      "cell_type": "markdown",
      "source": [
        "# **Project Summary**"
      ],
      "metadata": {
        "id": "FJNUwmbgGyua"
      }
    },
    {
      "cell_type": "markdown",
      "source": [
        "**The given dataset is of hotel booking. I explored and analyzed the given dataset and discovered some important factors regarding hotel booking. For this, I first read the given data in my collab notebook and then understand the whole data like what are variables in the given data. After that cleaned the data frame in data wrangling. For that I used some functions like drop(), fillna(), isna()/isnull() functions. Then I added some columns which are required in the analysis and removed some columns which are not required. Using this data frame I explored some variables using visualization charts like pie charts, count plots, barplot, and heatmaps and I can find out some insights which are important factors. From these insights, I can suggest some business objectives to clients.**"
      ],
      "metadata": {
        "id": "F6v_1wHtG2nS"
      }
    },
    {
      "cell_type": "markdown",
      "source": [
        "# **GitHub Link -**"
      ],
      "metadata": {
        "id": "w6K7xa23Elo4"
      }
    },
    {
      "cell_type": "markdown",
      "source": [
        "Provide your GitHub Link here."
      ],
      "metadata": {
        "id": "h1o69JH3Eqqn"
      }
    },
    {
      "cell_type": "markdown",
      "source": [
        "# **Problem Statement**\n"
      ],
      "metadata": {
        "id": "yQaldy8SH6Dl"
      }
    },
    {
      "cell_type": "markdown",
      "source": [
        "**In this project we are going to analyse Hotel Booking dataset. This dataset contains information of city hotel and resort hotel, and includes information of booking time, length of stay, number of adults, children and/or babies, also have information of avaliable parking space, among other thing.**\n",
        "\n",
        "**The objective of this project is explore and analyse the data to discover important factors regarding Hotels booking and its attributes.**"
      ],
      "metadata": {
        "id": "DpeJGUA3kjGy"
      }
    },
    {
      "cell_type": "markdown",
      "source": [
        "#### **Define Your Business Objective?**"
      ],
      "metadata": {
        "id": "PH-0ReGfmX4f"
      }
    },
    {
      "cell_type": "markdown",
      "source": [
        "**Analyse the data on Hotel Booking and discover the different factors which affects the booking.**"
      ],
      "metadata": {
        "id": "PhDvGCAqmjP1"
      }
    },
    {
      "cell_type": "markdown",
      "source": [
        "# **General Guidelines** : -  "
      ],
      "metadata": {
        "id": "mDgbUHAGgjLW"
      }
    },
    {
      "cell_type": "markdown",
      "source": [
        "1.   Well-structured, formatted, and commented code is required.\n",
        "2.   Exception Handling, Production Grade Code & Deployment Ready Code will be a plus. Those students will be awarded some additional credits.\n",
        "     \n",
        "     The additional credits will have advantages over other students during Star Student selection.\n",
        "       \n",
        "             [ Note: - Deployment Ready Code is defined as, the whole .ipynb notebook should be executable in one go\n",
        "                       without a single error logged. ]\n",
        "\n",
        "3.   Each and every logic should have proper comments.\n",
        "4. You may add as many number of charts you want. Make Sure for each and every chart the following format should be answered.\n",
        "        \n",
        "\n",
        "```\n",
        "# Chart visualization code\n",
        "```\n",
        "            \n",
        "\n",
        "*   Why did you pick the specific chart?\n",
        "*   What is/are the insight(s) found from the chart?\n",
        "* Will the gained insights help creating a positive business impact?\n",
        "Are there any insights that lead to negative growth? Justify with specific reason.\n",
        "\n",
        "5. You have to create at least 20 logical & meaningful charts having important insights.\n",
        "\n",
        "\n",
        "[ Hints : - Do the Vizualization in  a structured way while following \"UBM\" Rule.\n",
        "\n",
        "U - Univariate Analysis,\n",
        "\n",
        "B - Bivariate Analysis (Numerical - Categorical, Numerical - Numerical, Categorical - Categorical)\n",
        "\n",
        "M - Multivariate Analysis\n",
        " ]\n",
        "\n",
        "\n",
        "\n"
      ],
      "metadata": {
        "id": "ZrxVaUj-hHfC"
      }
    },
    {
      "cell_type": "markdown",
      "source": [
        "# ***Let's Begin !***"
      ],
      "metadata": {
        "id": "O_i_v8NEhb9l"
      }
    },
    {
      "cell_type": "markdown",
      "source": [
        "## ***1. Know Your Data***"
      ],
      "metadata": {
        "id": "HhfV-JJviCcP"
      }
    },
    {
      "cell_type": "markdown",
      "source": [
        "### Import Libraries"
      ],
      "metadata": {
        "id": "Y3lxredqlCYt"
      }
    },
    {
      "cell_type": "code",
      "source": [
        "# Import Libraries\n",
        "import numpy as np\n",
        "import pandas as pd\n",
        "import matplotlib\n",
        "import matplotlib.pyplot as plt\n",
        "import seaborn as sns\n",
        "import folium\n",
        "import plotly.express as px\n",
        "%matplotlib inline"
      ],
      "metadata": {
        "id": "M8Vqi-pPk-HR"
      },
      "execution_count": null,
      "outputs": []
    },
    {
      "cell_type": "markdown",
      "source": [
        "### Dataset Loading"
      ],
      "metadata": {
        "id": "3RnN4peoiCZX"
      }
    },
    {
      "cell_type": "code",
      "source": [
        "# Load Dataset\n",
        "from google.colab import drive\n",
        "drive.mount('/content/drive')"
      ],
      "metadata": {
        "id": "4CkvbW_SlZ_R"
      },
      "execution_count": null,
      "outputs": []
    },
    {
      "cell_type": "code",
      "source": [
        "# Reading the data file\n",
        "hotel_df= pd.read_csv(\"/content/drive/MyDrive/Capstone_EDA _Project/Hotel_Bookings.csv\")"
      ],
      "metadata": {
        "id": "7qSXQRKSzro6"
      },
      "execution_count": null,
      "outputs": []
    },
    {
      "cell_type": "markdown",
      "source": [
        "### Dataset First View"
      ],
      "metadata": {
        "id": "x71ZqKXriCWQ"
      }
    },
    {
      "cell_type": "code",
      "source": [
        "# Dataset First Look\n",
        "hotel_df.head()"
      ],
      "metadata": {
        "id": "LWNFOSvLl09H"
      },
      "execution_count": null,
      "outputs": []
    },
    {
      "cell_type": "code",
      "source": [
        "hotel_df.tail()"
      ],
      "metadata": {
        "id": "dWiToUsF02dS"
      },
      "execution_count": null,
      "outputs": []
    },
    {
      "cell_type": "markdown",
      "source": [
        "### Dataset Rows & Columns count"
      ],
      "metadata": {
        "id": "7hBIi_osiCS2"
      }
    },
    {
      "cell_type": "code",
      "source": [
        "# Dataset Rows & Columns count\n",
        "# Counting rows and columns in dataframe using shape\n",
        "hotel_df.shape"
      ],
      "metadata": {
        "id": "Kllu7SJgmLij"
      },
      "execution_count": null,
      "outputs": []
    },
    {
      "cell_type": "markdown",
      "source": [
        "### Dataset Information"
      ],
      "metadata": {
        "id": "JlHwYmJAmNHm"
      }
    },
    {
      "cell_type": "code",
      "source": [
        "# Dataset Info\n",
        "hotel_df.info()"
      ],
      "metadata": {
        "id": "e9hRXRi6meOf"
      },
      "execution_count": null,
      "outputs": []
    },
    {
      "cell_type": "code",
      "source": [
        "# Here is total description of dataset\n",
        "hotel_df.describe()"
      ],
      "metadata": {
        "id": "rst4ixeAdXKF"
      },
      "execution_count": null,
      "outputs": []
    },
    {
      "cell_type": "code",
      "source": [
        "#Creating the copy of the dataset\n",
        "df1 = hotel_df.copy()\n",
        "df1.head()"
      ],
      "metadata": {
        "id": "jHnQfjg-2pIB"
      },
      "execution_count": null,
      "outputs": []
    },
    {
      "cell_type": "markdown",
      "source": [
        "#### Duplicate Values"
      ],
      "metadata": {
        "id": "35m5QtbWiB9F"
      }
    },
    {
      "cell_type": "code",
      "source": [
        "# Dataset Duplicate Value Count\n",
        "duplicate_values = df1.duplicated().value_counts()\n",
        "duplicate_values"
      ],
      "metadata": {
        "id": "1sLdpKYkmox0"
      },
      "execution_count": null,
      "outputs": []
    },
    {
      "cell_type": "code",
      "source": [
        "# Visualizing the duplicate values\n",
        "plt.figure(figsize=(14,7))\n",
        "sns.countplot(x=df1.duplicated())\n",
        "plt.title('Visualisation of duplicated value', fontsize = 20)\n",
        "plt.ylabel('Count of Duplicate Values', fontsize = 15)\n",
        "plt.show()"
      ],
      "metadata": {
        "id": "VMXndovU3XaX"
      },
      "execution_count": null,
      "outputs": []
    },
    {
      "cell_type": "code",
      "source": [
        " # Here duplicate values are drop from dataset\n",
        "df1 = df1.drop_duplicates()\n",
        "df1"
      ],
      "metadata": {
        "id": "VOfCaYM73hht"
      },
      "execution_count": null,
      "outputs": []
    },
    {
      "cell_type": "code",
      "source": [
        " # shape of dataset after dropping the duplicates.\n",
        "df1.shape"
      ],
      "metadata": {
        "id": "UmTnwk-C3oqn"
      },
      "execution_count": null,
      "outputs": []
    },
    {
      "cell_type": "markdown",
      "source": [
        "#### Missing Values/Null Values"
      ],
      "metadata": {
        "id": "PoPl-ycgm1ru"
      }
    },
    {
      "cell_type": "code",
      "source": [
        "# Missing Values/Null Values Count\n",
        "\n",
        "missing_value = df1.isnull().sum().sort_values(ascending=False)[:5]\n",
        "missing_value\n"
      ],
      "metadata": {
        "id": "GgHWkxvamxVg"
      },
      "execution_count": null,
      "outputs": []
    },
    {
      "cell_type": "code",
      "source": [
        "# Visualizing the missing values\n",
        "plt.figure(figsize=(14,7))\n",
        "sns.heatmap(df1.isnull())\n",
        "plt.show()"
      ],
      "metadata": {
        "id": "3q5wnI3om9sJ"
      },
      "execution_count": null,
      "outputs": []
    },
    {
      "cell_type": "markdown",
      "source": [
        "### What did you know about your dataset?"
      ],
      "metadata": {
        "id": "H0kj-8xxnORC"
      }
    },
    {
      "cell_type": "markdown",
      "source": [
        "**The given dataset is of Hotel Booking and we have to analyse and explore this dataset to discover important facrtors which affects the Hotel Booking. The above dataset has 119390 rows and 32 coulumns.The duplicate value count is 31994 rows and 32 columns. There are 4 columns in dataset which have missing valuse and those columns are company, agent, country and children.**"
      ],
      "metadata": {
        "id": "gfoNAAC-nUe_"
      }
    },
    {
      "cell_type": "markdown",
      "source": [
        "## ***2. Understanding Your Variables***"
      ],
      "metadata": {
        "id": "nA9Y7ga8ng1Z"
      }
    },
    {
      "cell_type": "code",
      "source": [
        "# Dataset Columns\n",
        "df1.columns"
      ],
      "metadata": {
        "id": "j7xfkqrt5Ag5"
      },
      "execution_count": null,
      "outputs": []
    },
    {
      "cell_type": "code",
      "source": [
        "# Dataset Describe\n",
        "df1.describe(include='all')"
      ],
      "metadata": {
        "id": "DnOaZdaE5Q5t"
      },
      "execution_count": null,
      "outputs": []
    },
    {
      "cell_type": "markdown",
      "source": [
        "### Variables Description"
      ],
      "metadata": {
        "id": "PBTbrJXOngz2"
      }
    },
    {
      "cell_type": "markdown",
      "source": [
        "**Hotel:** Type of hotel(City or Resort).<br>\n",
        "**is_cancelled:** If the booking was cancelled(1) or not(0).<br>\n",
        "**lead_time:** Number of days before the actual arrival of the guests.<br>\n",
        "**arrival_date_year:** Year of arrival date.<br>\n",
        "**arrival_date_month:** Month of arrival date.<br>\n",
        "**arrival_date_week_number:** Week number of year for arrival date.<br>\n",
        "**arrival_date_day_of_month:** Day of arrival date.<br>\n",
        "**stays_in_weekend_nights:** Number of weekend nights(Saturday or Sunday) spent at the hotel by the guests.<br>\n",
        "**stays_in_weel_nights:** Number of weeknights(Monday to Friday) spent at the hotel by the guests.<br>\n",
        "**adults:** Number of adults among the guests.<br>\n",
        "**children:** Number of children.<br>\n",
        "**babies:** Number of babies.<br>\n",
        "**meal:** Type of meal booked.<br>\n",
        "**country:** country of the guests.<br>\n",
        "**market_segment:** Designation of market segment.<br>\n",
        "**distribution_channel:** Name of booking distribution channel.<br>\n",
        "**is_repeated_guest:** If the booking was from a repeated guest(1) or not(0).<br>\n",
        "**previous_cancellation:** Number of previous bookings that were cancelled by the customer prior to the current booking.<br>\n",
        "**previous_bookings_not_cancelled:** Number of previous bookins not cancelled by the customer prior to the current bookin.<br>\n",
        "**reserved_room_type:** Code from room type reserved.<br>\n",
        "**assigned_room_type:** Code of room type assigned.<br>\n",
        "**booking_changes:** Number of changes made to the booking.<br>\n",
        "**deposit_type:** Type of deposite made by the guest.<br>\n",
        "**agent:** ID of travel agent who made the booking.<br>\n",
        "**comapny:** ID of the company that made the booking.<br>\n",
        "days_in_waiting_list: Number of the days the booking was in the waiting list.<br>\n",
        "**customer_type:** Type of customer, assuming one of four categories\n",
        "**adr:** Average daily rate.<br>\n",
        "**required_car_parking_spaces:** Number of car parking spaces required bt the customer.<br>\n",
        "**total_of_special_requesrs:** Number of special requests made by the customer.<br>\n",
        "**reservation_statuse:** Reservation status(Canceled, check-out or no-show).<br>\n",
        "**reservation_status_date:** Date at which the last reservation status was updated.<br>\n"
      ],
      "metadata": {
        "id": "aJV4KIxSnxay"
      }
    },
    {
      "cell_type": "markdown",
      "source": [
        "### Check Unique Values for each variable."
      ],
      "metadata": {
        "id": "u3PMJOP6ngxN"
      }
    },
    {
      "cell_type": "code",
      "source": [
        "# Check Unique Values for each variable.\n",
        "#Using Lambda funtion for describe all the uniquw values of indivisual colum\n",
        "\n",
        "print(df1.apply(lambda col: col.unique()))"
      ],
      "metadata": {
        "id": "zms12Yq5n-jE"
      },
      "execution_count": null,
      "outputs": []
    },
    {
      "cell_type": "markdown",
      "source": [
        "## 3. ***Data Wrangling***"
      ],
      "metadata": {
        "id": "dauF4eBmngu3"
      }
    },
    {
      "cell_type": "markdown",
      "source": [
        "### Data Wrangling Code"
      ],
      "metadata": {
        "id": "bKJF3rekwFvQ"
      }
    },
    {
      "cell_type": "code",
      "source": [
        "# Write your code to make your dataset analysis ready.\n",
        "#Here duplicate values are drop which I have already found.\n",
        "df1 = df1.drop_duplicates()\n",
        "df1\n"
      ],
      "metadata": {
        "id": "wk-9a2fpoLcV"
      },
      "execution_count": null,
      "outputs": []
    },
    {
      "cell_type": "code",
      "source": [
        "# Null values are replaced using for loop and .fillna()\n",
        "null_columns=['company','agent','children']\n",
        "for columns in null_columns:\n",
        "  df1[columns].fillna(0,inplace=True)"
      ],
      "metadata": {
        "id": "U_ZKnWLmhi71"
      },
      "execution_count": null,
      "outputs": []
    },
    {
      "cell_type": "code",
      "source": [
        "# Null valyes in contry column is replced by others using .fillna()\n",
        "df1['country'].fillna('others',inplace=True)"
      ],
      "metadata": {
        "id": "t6xM3gjNhq2t"
      },
      "execution_count": null,
      "outputs": []
    },
    {
      "cell_type": "code",
      "source": [
        "df1.isna().sum().sort_values(ascending=False)[:5]"
      ],
      "metadata": {
        "id": "PcTBiOuwhxMr"
      },
      "execution_count": null,
      "outputs": []
    },
    {
      "cell_type": "markdown",
      "source": [
        "###Adding New Colums###"
      ],
      "metadata": {
        "id": "hubup1Bij-Cc"
      }
    },
    {
      "cell_type": "code",
      "source": [
        "# Adding total staying days in hotels\n",
        "df1['total_stay'] = df1['stays_in_weekend_nights']+df1['stays_in_week_nights']\n",
        "\n",
        "# Adding total people num as a column\n",
        "df1['total_people'] = df1['adults']+df1['children']+df1['babies']"
      ],
      "metadata": {
        "id": "JA6d4pugh-TA"
      },
      "execution_count": null,
      "outputs": []
    },
    {
      "cell_type": "code",
      "source": [
        "# view of df1 with added column\n",
        "df1.head()"
      ],
      "metadata": {
        "id": "tvpPaMYDiFXh"
      },
      "execution_count": null,
      "outputs": []
    },
    {
      "cell_type": "markdown",
      "source": [
        "####**There are some rows with total number of adults, children or babies equal to zero this means there is no any booking were made. So we can remove such rows.**"
      ],
      "metadata": {
        "id": "Jm7Nhj9liUs0"
      }
    },
    {
      "cell_type": "code",
      "source": [
        "# shape of columns which have no bookings\n",
        "df1[df1['adults']+df1['babies']+df1['children'] == 0].shape"
      ],
      "metadata": {
        "id": "7sIwULnLimE2"
      },
      "execution_count": null,
      "outputs": []
    },
    {
      "cell_type": "code",
      "source": [
        "# Columns are dropped here using drop function\n",
        "df1.drop(df1[df1['adults']+df1['babies']+df1['children'] == 0].index, inplace = True)"
      ],
      "metadata": {
        "id": "ymWc9GzDirWi"
      },
      "execution_count": null,
      "outputs": []
    },
    {
      "cell_type": "markdown",
      "source": [
        "### What all manipulations have you done and insights you found?"
      ],
      "metadata": {
        "id": "MSa1f5Uengrz"
      }
    },
    {
      "cell_type": "markdown",
      "source": [
        "* In the given dataframe, there were 31994 duplicate values. So those values were removed.<br>\n",
        "* There were 4 columns which have missing values and the columns were 'company','agent','country','children'. The values from these columns are replaced by zero.\n",
        "* In dataframe added two columns tatal_stay and total_people.\n",
        "* Three columns 'adults','children','babies' had valuen zero which means no booking has done here, so these columns were removed.**"
      ],
      "metadata": {
        "id": "LbyXE7I1olp8"
      }
    },
    {
      "cell_type": "markdown",
      "source": [
        "## ***4. Data Vizualization, Storytelling & Experimenting with charts : Understand the relationships between variables***"
      ],
      "metadata": {
        "id": "GF8Ens_Soomf"
      }
    },
    {
      "cell_type": "markdown",
      "source": [
        "###**Univariate Analysis**###"
      ],
      "metadata": {
        "id": "uV4s_j85kZTE"
      }
    },
    {
      "cell_type": "markdown",
      "source": [
        "#### Chart - 1"
      ],
      "metadata": {
        "id": "0wOQAZs5pc--"
      }
    },
    {
      "cell_type": "markdown",
      "source": [
        "1. Which type of hotel is mostly prefered by the guests?"
      ],
      "metadata": {
        "id": "i3T2fA-SkjE3"
      }
    },
    {
      "cell_type": "code",
      "source": [
        "# Chart - 1 visualization code\n",
        "hotel_value_counts = df1['hotel'].value_counts()\n",
        "hotel_value_counts"
      ],
      "metadata": {
        "id": "7v_ESjsspbW7"
      },
      "execution_count": null,
      "outputs": []
    },
    {
      "cell_type": "code",
      "source": [
        "# piechart is used for visualization\n",
        "hotel_value_counts.plot.pie(explode=[0.03, 0.03], autopct='%1.2f%%', shadow=True, figsize=(10,7),fontsize=20)\n",
        "plt.title('Pie Chart for Most Preffered  Hotel',fontsize = 20)\n",
        "plt.show()"
      ],
      "metadata": {
        "id": "CvdwVWtbk89S"
      },
      "execution_count": null,
      "outputs": []
    },
    {
      "cell_type": "markdown",
      "source": [
        "##### 1. Why did you pick the specific chart?"
      ],
      "metadata": {
        "id": "K5QZ13OEpz2H"
      }
    },
    {
      "cell_type": "markdown",
      "source": [
        "**I use pie chart because pie chart gives simple and easy to understand picture that shows which hotel has more bookings.**"
      ],
      "metadata": {
        "id": "XESiWehPqBRc"
      }
    },
    {
      "cell_type": "markdown",
      "source": [
        "##### 2. What is/are the insight(s) found from the chart?"
      ],
      "metadata": {
        "id": "lQ7QKXXCp7Bj"
      }
    },
    {
      "cell_type": "markdown",
      "source": [
        "**I found that city hotel has more bookings which are 61.07% and Resort hotel has less bookings which are 38.93%.**"
      ],
      "metadata": {
        "id": "C_j1G7yiqdRP"
      }
    },
    {
      "cell_type": "markdown",
      "source": [
        "##### 3. Will the gained insights help creating a positive business impact?\n",
        "Are there any insights that lead to negative growth? Justify with specific reason."
      ],
      "metadata": {
        "id": "448CDAPjqfQr"
      }
    },
    {
      "cell_type": "markdown",
      "source": [
        "**Yes, gained insights help creating a positive business impact.**\n",
        "\n",
        "**City hotel can find more services to attract more guests to increase more revenue.**\n",
        "\n",
        "**Resort hotel can find solution to attract guest and also find which facilities provided ny city hotel to attract the guest.**"
      ],
      "metadata": {
        "id": "3cspy4FjqxJW"
      }
    },
    {
      "cell_type": "markdown",
      "source": [
        "#### Chart - 2"
      ],
      "metadata": {
        "id": "KSlN3yHqYklG"
      }
    },
    {
      "cell_type": "code",
      "source": [
        "# Chart - 2 visualization code\n",
        "top_bookings_by_agent = df1['agent'].value_counts().reset_index().rename(columns={'index':'agent','agent':'num_of_bookings'})[:10]\n",
        "top_bookings_by_agent"
      ],
      "metadata": {
        "id": "R4YgtaqtYklH"
      },
      "execution_count": null,
      "outputs": []
    },
    {
      "cell_type": "code",
      "source": [
        "# barplot is used for visualization\n",
        "plt.figure(figsize=(14,7))\n",
        "sns.barplot(x=top_bookings_by_agent['agent'],y=top_bookings_by_agent['num_of_bookings'],order=top_bookings_by_agent['agent'])\n",
        "plt.title('Most bookings by the agent', fontsize=20)\n",
        "plt.ylabel('Number of bookings', fontsize=15)\n",
        "plt.xlabel('Agent number', fontsize=15)\n",
        "plt.show()"
      ],
      "metadata": {
        "id": "zL5r2OnqmKlk"
      },
      "execution_count": null,
      "outputs": []
    },
    {
      "cell_type": "markdown",
      "source": [
        "##### 1. Why did you pick the specific chart?"
      ],
      "metadata": {
        "id": "t6dVpIINYklI"
      }
    },
    {
      "cell_type": "markdown",
      "source": [
        "**I choose barplot here because it gives data visualization in pictorial form and due to this comparison of data is easy.**"
      ],
      "metadata": {
        "id": "5aaW0BYyYklI"
      }
    },
    {
      "cell_type": "markdown",
      "source": [
        "##### 2. What is/are the insight(s) found from the chart?"
      ],
      "metadata": {
        "id": "ijmpgYnKYklI"
      }
    },
    {
      "cell_type": "markdown",
      "source": [
        "**The insight found here is Agent no. 9 made most of the bookings.**"
      ],
      "metadata": {
        "id": "PSx9atu2YklI"
      }
    },
    {
      "cell_type": "markdown",
      "source": [
        "##### 3. Will the gained insights help creating a positive business impact?\n",
        "Are there any insights that lead to negative growth? Justify with specific reason."
      ],
      "metadata": {
        "id": "-JiQyfWJYklI"
      }
    },
    {
      "cell_type": "markdown",
      "source": [
        "* Yes, Agent no.9, 240 has more bookins which makes positive impact.\n",
        "* Aent no. 8 and 1 has less bookins which makes neative impact.\n",
        "* Booking made by agent no 1 and 6 are about 4.27% of agent no 9 which has hihest bookings."
      ],
      "metadata": {
        "id": "BcBbebzrYklV"
      }
    },
    {
      "cell_type": "markdown",
      "source": [
        "#### Chart - 3"
      ],
      "metadata": {
        "id": "EM7whBJCYoAo"
      }
    },
    {
      "cell_type": "code",
      "source": [
        "# Chart - 3 visualization code\n",
        "# 1 is for booking made by repeated buest and 0 is for booking not made by repeated guest\n",
        "repeated_guests_count = df1['is_repeated_guest'].value_counts()\n",
        "repeated_guests_count"
      ],
      "metadata": {
        "id": "t6GMdE67YoAp"
      },
      "execution_count": null,
      "outputs": []
    },
    {
      "cell_type": "code",
      "source": [
        "# barplot is used for visaulization\n",
        "repeated_guests_count.plot.pie(explode=[0.03, 0.03], autopct='%1.2f%%', shadow=True, figsize=(10,7),fontsize=20)\n",
        "plt.title('Percentage of repeated guests ',fontsize = 20)"
      ],
      "metadata": {
        "id": "pJeM4YYwnR8w"
      },
      "execution_count": null,
      "outputs": []
    },
    {
      "cell_type": "markdown",
      "source": [
        "##### 1. Why did you pick the specific chart?"
      ],
      "metadata": {
        "id": "fge-S5ZAYoAp"
      }
    },
    {
      "cell_type": "markdown",
      "source": [
        "**I use pie chart because pie chart gives simple and easy to understand picture that shows how many guests book perticular hotel repetadly.**"
      ],
      "metadata": {
        "id": "5dBItgRVYoAp"
      }
    },
    {
      "cell_type": "markdown",
      "source": [
        "##### 2. What is/are the insight(s) found from the chart?"
      ],
      "metadata": {
        "id": "85gYPyotYoAp"
      }
    },
    {
      "cell_type": "markdown",
      "source": [
        "**The insight found from the chart is there are very few guests booking for the same hotel again.**"
      ],
      "metadata": {
        "id": "4jstXR6OYoAp"
      }
    },
    {
      "cell_type": "markdown",
      "source": [
        "##### 3. Will the gained insights help creating a positive business impact?\n",
        "Are there any insights that lead to negative growth? Justify with specific reason."
      ],
      "metadata": {
        "id": "RoGjAbkUYoAp"
      }
    },
    {
      "cell_type": "markdown",
      "source": [
        "**Yes, the gained insights help creating a positive business impact like the hotels which do not booked repetadly by guests can take feedbacks from the guests and try to impove there services.**"
      ],
      "metadata": {
        "id": "zfJ8IqMcYoAp"
      }
    },
    {
      "cell_type": "markdown",
      "source": [
        "#### Chart - 4"
      ],
      "metadata": {
        "id": "4Of9eVA-YrdM"
      }
    },
    {
      "cell_type": "code",
      "source": [
        "# Chart - 4 visualization code\n",
        "room_type = df1['assigned_room_type'].value_counts()\n",
        "room_type"
      ],
      "metadata": {
        "id": "irlUoxc8YrdO"
      },
      "execution_count": null,
      "outputs": []
    },
    {
      "cell_type": "code",
      "source": [
        "# countlot is used for visualization of most preferred room type\n",
        "plt.figure(figsize=(14,7))\n",
        "sns.countplot(x=df1['assigned_room_type'],order=df1['assigned_room_type'].value_counts().index)\n",
        "plt.title(\"Most preferred Room type\", fontsize = 20)\n",
        "plt.xlabel('Type of the Room', fontsize = 15)\n",
        "plt.ylabel('Room type count', fontsize = 15)\n",
        "plt.show()"
      ],
      "metadata": {
        "id": "fBCAiT4HnsDJ"
      },
      "execution_count": null,
      "outputs": []
    },
    {
      "cell_type": "markdown",
      "source": [
        "##### 1. Why did you pick the specific chart?"
      ],
      "metadata": {
        "id": "iky9q4vBYrdO"
      }
    },
    {
      "cell_type": "markdown",
      "source": [
        "**I have choose countplot to visualize most prefferd roomtype because countplot display the count of each observation for each category and here we have to represent room type vs room type count.**"
      ],
      "metadata": {
        "id": "aJRCwT6DYrdO"
      }
    },
    {
      "cell_type": "markdown",
      "source": [
        "##### 2. What is/are the insight(s) found from the chart?"
      ],
      "metadata": {
        "id": "F6T5p64dYrdO"
      }
    },
    {
      "cell_type": "markdown",
      "source": [
        "**The insighte found from the chart is A type rooms are most prefered rooms and the count is 46283 and after that D type rooms are prefered by the guest and count is 22419.**"
      ],
      "metadata": {
        "id": "Xx8WAJvtYrdO"
      }
    },
    {
      "cell_type": "markdown",
      "source": [
        "##### 3. Will the gained insights help creating a positive business impact?\n",
        "Are there any insights that lead to negative growth? Justify with specific reason."
      ],
      "metadata": {
        "id": "y-Ehk30pYrdP"
      }
    },
    {
      "cell_type": "markdown",
      "source": [
        "* A type rooms are most preferred rooms. This make positive impact on business.\n",
        "* H,I,K,L type rooms are less preferred this insight makes neative impact.\n",
        "* This is beacause type A rooms have 46283 bookings and type L room has only one booking."
      ],
      "metadata": {
        "id": "jLNxxz7MYrdP"
      }
    },
    {
      "cell_type": "markdown",
      "source": [
        "#### Chart - 5"
      ],
      "metadata": {
        "id": "bamQiAODYuh1"
      }
    },
    {
      "cell_type": "code",
      "source": [
        "# Chart - 5 visualization code\n",
        "preferred_food = df1['meal'].value_counts()\n",
        "preferred_food"
      ],
      "metadata": {
        "id": "TIJwrbroYuh3"
      },
      "execution_count": null,
      "outputs": []
    },
    {
      "cell_type": "code",
      "source": [
        "# Visualization of most preferred food using countplot\n",
        "plt.figure(figsize=(14,7))\n",
        "sns.countplot(x=df1['meal'],order=df1['meal'].value_counts().index)\n",
        "plt.title(\"Most preferred Food\", fontsize = 20)\n",
        "plt.xlabel('Type of the food', fontsize = 15)\n",
        "plt.ylabel('Food type count', fontsize = 15)"
      ],
      "metadata": {
        "id": "YeqLu7wfoW8O"
      },
      "execution_count": null,
      "outputs": []
    },
    {
      "cell_type": "markdown",
      "source": [
        "##### 1. Why did you pick the specific chart?"
      ],
      "metadata": {
        "id": "QHF8YVU7Yuh3"
      }
    },
    {
      "cell_type": "markdown",
      "source": [
        "**I have choose countplot to visualize most preferred food because countplot display the count of each observation for each category and here we have to represent food type vs food type count.**"
      ],
      "metadata": {
        "id": "dcxuIMRPYuh3"
      }
    },
    {
      "cell_type": "markdown",
      "source": [
        "##### 2. What is/are the insight(s) found from the chart?"
      ],
      "metadata": {
        "id": "GwzvFGzlYuh3"
      }
    },
    {
      "cell_type": "markdown",
      "source": [
        "**The insight found here is BB type food is most preferred anf FB type of food is less preferred.**"
      ],
      "metadata": {
        "id": "uyqkiB8YYuh3"
      }
    },
    {
      "cell_type": "markdown",
      "source": [
        "##### 3. Will the gained insights help creating a positive business impact?\n",
        "Are there any insights that lead to negative growth? Justify with specific reason."
      ],
      "metadata": {
        "id": "qYpmQ266Yuh3"
      }
    },
    {
      "cell_type": "markdown",
      "source": [
        "* BB type of food is most preferred food this makes positive impact on business.\n",
        "* Undefined and FB type of food is less preferred this insight makes neative impact on business.\n",
        "* The BB type food is preferred by 67907 guests and FB type of food is preferred by only 360 guests."
      ],
      "metadata": {
        "id": "_WtzZ_hCYuh4"
      }
    },
    {
      "cell_type": "markdown",
      "source": [
        "#### Chart - 6"
      ],
      "metadata": {
        "id": "OH-pJp9IphqM"
      }
    },
    {
      "cell_type": "code",
      "source": [
        "# Chart - 6 visualization code\n",
        "bookings_by_months=df1.groupby(['arrival_date_month'])['hotel'].count().reset_index().rename(columns={'hotel':\"Counts of booking\"})\n",
        "bookings_by_months"
      ],
      "metadata": {
        "id": "kuRf4wtuphqN"
      },
      "execution_count": null,
      "outputs": []
    },
    {
      "cell_type": "code",
      "source": [
        "bookings_by_months=df1.groupby(['arrival_date_month'])['hotel'].count().reset_index().rename(columns={'hotel':\"Counts of booking\"})\n",
        "sequence_of_months = ['January', 'February', 'March', 'April', 'May', 'June', 'July', 'August', 'September', 'October', 'November', 'December']\n",
        "bookings_by_months['arrival_date_month']=pd.Categorical(bookings_by_months['arrival_date_month'],categories=sequence_of_months,ordered=True)\n",
        "bookings_by_months=bookings_by_months.sort_values('arrival_date_month')\n",
        "bookings_by_months"
      ],
      "metadata": {
        "id": "ej8kJXZWqFbH"
      },
      "execution_count": null,
      "outputs": []
    },
    {
      "cell_type": "code",
      "source": [
        "# barplot for visualization of month in which most booking happened.\n",
        "plt.figure(figsize=(14,7))\n",
        "sns.barplot(data=bookings_by_months, x=\"arrival_date_month\", y=\"Counts of booking\")\n",
        "plt.title(\"Number of Bookings in Months\", fontsize = 20)\n",
        "plt.xlabel('Month', fontsize = 15)\n",
        "plt.ylabel('Number of Bookings', fontsize = 15)\n"
      ],
      "metadata": {
        "id": "XPxhZWtNqMjN"
      },
      "execution_count": null,
      "outputs": []
    },
    {
      "cell_type": "markdown",
      "source": [
        "##### 1. Why did you pick the specific chart?"
      ],
      "metadata": {
        "id": "bbFf2-_FphqN"
      }
    },
    {
      "cell_type": "markdown",
      "source": [
        "**I choose barplot here because it gives data visualization in pictorial form. So comparison becomes easy.**"
      ],
      "metadata": {
        "id": "loh7H2nzphqN"
      }
    },
    {
      "cell_type": "markdown",
      "source": [
        "##### 2. What is/are the insight(s) found from the chart?"
      ],
      "metadata": {
        "id": "_ouA3fa0phqN"
      }
    },
    {
      "cell_type": "markdown",
      "source": [
        "**The insight found from the chart is August month has maximum number of bookings.**"
      ],
      "metadata": {
        "id": "VECbqPI7phqN"
      }
    },
    {
      "cell_type": "markdown",
      "source": [
        "##### 3. Will the gained insights help creating a positive business impact?\n",
        "Are there any insights that lead to negative growth? Justify with specific reason."
      ],
      "metadata": {
        "id": "Seke61FWphqN"
      }
    },
    {
      "cell_type": "markdown",
      "source": [
        "* July and August months have most bookings this is positive impact on business\n",
        "* November, December and January months have less bookins this is neative impact.\n",
        "* July and August months have bookings above the average bookings and November, December and January months have bookings below the average bookings."
      ],
      "metadata": {
        "id": "DW4_bGpfphqN"
      }
    },
    {
      "cell_type": "markdown",
      "source": [
        "#### Chart - 7"
      ],
      "metadata": {
        "id": "PIIx-8_IphqN"
      }
    },
    {
      "cell_type": "code",
      "source": [
        "# Chart - 7 visualization code\n",
        "# distribution channel value count\n",
        "distribution_channel_counts = df1['distribution_channel'].value_counts()\n",
        "distribution_channel_counts"
      ],
      "metadata": {
        "id": "lqAIGUfyphqO"
      },
      "execution_count": null,
      "outputs": []
    },
    {
      "cell_type": "code",
      "source": [
        "#shape of dataframe\n",
        "d3 = df1.shape[0]\n",
        "d3"
      ],
      "metadata": {
        "id": "o9moKyt9q0d9"
      },
      "execution_count": null,
      "outputs": []
    },
    {
      "cell_type": "code",
      "source": [
        "# distribution channel count in df format\n",
        "distribution_channel_df = df1['distribution_channel'].value_counts().reset_index().rename(columns={'index':\"distribution_channel\",'distribution_channel':'count'})\n",
        "distribution_channel_df"
      ],
      "metadata": {
        "id": "GMMIpoy8q677"
      },
      "execution_count": null,
      "outputs": []
    },
    {
      "cell_type": "code",
      "source": [
        "# booking by distribution channel in percent\n",
        "distribution_channel_df_percent = pd.DataFrame(round((distribution_channel_counts/d3)*100,2)).reset_index().rename(columns={'index':'distribution_channel','distribution_channel':'% booking'})\n",
        "distribution_channel_df_percent"
      ],
      "metadata": {
        "id": "t1kyhcQTrGfK"
      },
      "execution_count": null,
      "outputs": []
    },
    {
      "cell_type": "code",
      "source": [
        "#Visualization of mostly used distribution channels using barplot\n",
        "plt.figure(figsize=(14,7))\n",
        "sns.barplot(data=distribution_channel_df_percent, x=\"distribution_channel\", y=\"% booking\")\n",
        "plt.title(\"Mostly used distribution Channels\", fontsize = 20)\n",
        "plt.xlabel('Distribution Channel', fontsize = 15)\n",
        "plt.ylabel('Booking by distribution channel in percent', fontsize = 15)"
      ],
      "metadata": {
        "id": "H2cyOrSWrK9J"
      },
      "execution_count": null,
      "outputs": []
    },
    {
      "cell_type": "markdown",
      "source": [
        "##### 1. Why did you pick the specific chart?"
      ],
      "metadata": {
        "id": "t27r6nlMphqO"
      }
    },
    {
      "cell_type": "markdown",
      "source": [
        "**Because barplot gives simple and easy to understand pictorial chart.**"
      ],
      "metadata": {
        "id": "iv6ro40sphqO"
      }
    },
    {
      "cell_type": "markdown",
      "source": [
        "##### 2. What is/are the insight(s) found from the chart?"
      ],
      "metadata": {
        "id": "r2jJGEOYphqO"
      }
    },
    {
      "cell_type": "markdown",
      "source": [
        "**Mostly used distribution channel is TA/TO channel.The total count of booking is 69028 and booking in percent is 79.13.**"
      ],
      "metadata": {
        "id": "Po6ZPi4hphqO"
      }
    },
    {
      "cell_type": "markdown",
      "source": [
        "##### 3. Will the gained insights help creating a positive business impact?\n",
        "Are there any insights that lead to negative growth? Justify with specific reason."
      ],
      "metadata": {
        "id": "b0JNsNcRphqO"
      }
    },
    {
      "cell_type": "markdown",
      "source": [
        "* Distribution channel TA/TO is mostly used channel this makes positive impact.\n",
        "* Distribution channel GDS and undefined is less used channels this makes negative impact.\n",
        "* Use of TA/TO is 79.13% and use of GDS is 0.21%.\n",
        "Other channels can provide those facilities which are provided by TA/TO channel."
      ],
      "metadata": {
        "id": "xvSq8iUTphqO"
      }
    },
    {
      "cell_type": "markdown",
      "source": [
        "#### Chart - 8"
      ],
      "metadata": {
        "id": "BZR9WyysphqO"
      }
    },
    {
      "cell_type": "code",
      "source": [
        "# Chart - 8 visualization code\n",
        "year_count = df1['arrival_date_year'].value_counts().sort_index()\n",
        "year_count"
      ],
      "metadata": {
        "id": "TdPTWpAVphqO"
      },
      "execution_count": null,
      "outputs": []
    },
    {
      "cell_type": "code",
      "source": [
        "# Visualization of year wise booking using countplot chart\n",
        "plt.figure(figsize=(14,7))\n",
        "sns.countplot(x=df1['arrival_date_year'],hue=df1['hotel'])\n",
        "plt.title('Year wise Bookings', fontsize = 20)\n",
        "plt.xlabel('Arrival_date_year', fontsize = 15)\n",
        "plt.ylabel('Count of bookings', fontsize = 15)"
      ],
      "metadata": {
        "id": "FTaQjwo_r3jA"
      },
      "execution_count": null,
      "outputs": []
    },
    {
      "cell_type": "markdown",
      "source": [
        "##### 1. Why did you pick the specific chart?"
      ],
      "metadata": {
        "id": "jj7wYXLtphqO"
      }
    },
    {
      "cell_type": "markdown",
      "source": [
        "**Because countplot is easy to understand.**"
      ],
      "metadata": {
        "id": "Ob8u6rCTphqO"
      }
    },
    {
      "cell_type": "markdown",
      "source": [
        "##### 2. What is/are the insight(s) found from the chart?"
      ],
      "metadata": {
        "id": "eZrbJ2SmphqO"
      }
    },
    {
      "cell_type": "markdown",
      "source": [
        "**2016 had highest bookings and 2015 had lowest bookings.**"
      ],
      "metadata": {
        "id": "mZtgC_hjphqO"
      }
    },
    {
      "cell_type": "markdown",
      "source": [
        "##### 3. Will the gained insights help creating a positive business impact?\n",
        "Are there any insights that lead to negative growth? Justify with specific reason."
      ],
      "metadata": {
        "id": "rFu4xreNphqO"
      }
    },
    {
      "cell_type": "markdown",
      "source": [
        "* Year 2016 had highest bookings this makes positive impact.\n",
        "* Year 2015 had lowest bookings this makes negative impact.\n",
        "* In 2016 there were 42313 bookings and In 2015 there were 13284 bookings."
      ],
      "metadata": {
        "id": "ey_0qi68phqO"
      }
    },
    {
      "cell_type": "markdown",
      "source": [
        "## **Bivariate and Multivariate analysis**"
      ],
      "metadata": {
        "id": "AAWeE7tKsZO-"
      }
    },
    {
      "cell_type": "markdown",
      "source": [
        "#### Chart - 9"
      ],
      "metadata": {
        "id": "YJ55k-q6phqO"
      }
    },
    {
      "cell_type": "code",
      "source": [
        "# Chart - 9 visualization code\n",
        "highest_adr = df1.groupby('hotel')['adr'].mean().reset_index()\n",
        "highest_adr"
      ],
      "metadata": {
        "id": "B2aS4O1ophqO"
      },
      "execution_count": null,
      "outputs": []
    },
    {
      "cell_type": "code",
      "source": [
        "# Visualization of highest adr using barplot\n",
        "plt.figure(figsize=(14,7))\n",
        "sns.barplot(x=highest_adr['hotel'],y=highest_adr['adr'])\n",
        "plt.title('Average ADR for each Hotel type', fontsize=20)\n",
        "plt.xlabel('Type of hotel',fontsize=15)\n",
        "plt.ylabel('ADR', fontsize=15)\n",
        "plt.show()"
      ],
      "metadata": {
        "id": "e30erNyQsrMa"
      },
      "execution_count": null,
      "outputs": []
    },
    {
      "cell_type": "markdown",
      "source": [
        "##### 1. Why did you pick the specific chart?"
      ],
      "metadata": {
        "id": "gCFgpxoyphqP"
      }
    },
    {
      "cell_type": "markdown",
      "source": [
        "**I choose bar plot because it gives simple pictorial diagram and it also easy to understand.**"
      ],
      "metadata": {
        "id": "TVxDimi2phqP"
      }
    },
    {
      "cell_type": "markdown",
      "source": [
        "##### 2. What is/are the insight(s) found from the chart?"
      ],
      "metadata": {
        "id": "OVtJsKN_phqQ"
      }
    },
    {
      "cell_type": "markdown",
      "source": [
        "**The insight found from the chart is City hotel has highest adr that means city hotel generate more revenue.**"
      ],
      "metadata": {
        "id": "ngGi97qjphqQ"
      }
    },
    {
      "cell_type": "markdown",
      "source": [
        "##### 3. Will the gained insights help creating a positive business impact?\n",
        "Are there any insights that lead to negative growth? Justify with specific reason."
      ],
      "metadata": {
        "id": "lssrdh5qphqQ"
      }
    },
    {
      "cell_type": "markdown",
      "source": [
        "* City hotel has high adr this makes positive impact.\n",
        "Resort hotel has less adr as compaire to city hotel this makes negative impact.\n",
        "* City hotel has adr 110.98 means more revenue and resort hotel has 99.02 adr means less revenue than city hotel.\n",
        "* Resort hotel should have increase there facilitis which increase revenue."
      ],
      "metadata": {
        "id": "tBpY5ekJphqQ"
      }
    },
    {
      "cell_type": "markdown",
      "source": [
        "#### Chart - 10"
      ],
      "metadata": {
        "id": "U2RJ9gkRphqQ"
      }
    },
    {
      "cell_type": "code",
      "source": [
        "# Chart - 10 visualization code\n",
        "Waiting_time = df1.groupby('hotel')['days_in_waiting_list'].mean().reset_index()\n",
        "Waiting_time"
      ],
      "metadata": {
        "id": "GM7a4YP4phqQ"
      },
      "execution_count": null,
      "outputs": []
    },
    {
      "cell_type": "code",
      "source": [
        "# Visualization of hotel which has longer waiting time by using barplot\n",
        "plt.figure(figsize=(14,7))\n",
        "sns.barplot(x=Waiting_time['hotel'],y=Waiting_time['days_in_waiting_list'])\n",
        "plt.title('Waiting time for each hotel type', fontsize=20)\n",
        "plt.xlabel('Type of hotel',fontsize=15)\n",
        "plt.ylabel('Waiting time', fontsize=15)"
      ],
      "metadata": {
        "id": "s4Ugz70eti8O"
      },
      "execution_count": null,
      "outputs": []
    },
    {
      "cell_type": "markdown",
      "source": [
        "##### 1. Why did you pick the specific chart?"
      ],
      "metadata": {
        "id": "1M8mcRywphqQ"
      }
    },
    {
      "cell_type": "markdown",
      "source": [
        "**I choose barplot bacuase it gives easy to understand pictorial diagram for the visualization of which hotel has longer waiting time.**"
      ],
      "metadata": {
        "id": "8agQvks0phqQ"
      }
    },
    {
      "cell_type": "markdown",
      "source": [
        "##### 2. What is/are the insight(s) found from the chart?"
      ],
      "metadata": {
        "id": "tgIPom80phqQ"
      }
    },
    {
      "cell_type": "markdown",
      "source": [
        "**City hotel has longer waiting time.Therefore city hotel is much busier than Resort hotel.**"
      ],
      "metadata": {
        "id": "Qp13pnNzphqQ"
      }
    },
    {
      "cell_type": "markdown",
      "source": [
        "##### 3. Will the gained insights help creating a positive business impact?\n",
        "Are there any insights that lead to negative growth? Justify with specific reason."
      ],
      "metadata": {
        "id": "JMzcOPDDphqR"
      }
    },
    {
      "cell_type": "markdown",
      "source": [
        "* City hotel has longer waiting time this makes positive impact\n",
        "on business.\n",
        "* Resort hotel has less waiting time this makes negative impact on business.\n",
        "* The mean of days in waiting list for city hotel is about 1.02 and for resort hotel is about 0.32.\n",
        "* Resort hotel need to increase their facilities so that their bookings increases."
      ],
      "metadata": {
        "id": "R4Ka1PC2phqR"
      }
    },
    {
      "cell_type": "markdown",
      "source": [
        "#### Chart - 11"
      ],
      "metadata": {
        "id": "x-EpHcCOp1ci"
      }
    },
    {
      "cell_type": "code",
      "source": [
        "# Chart - 11 visualization code\n",
        "distribution_channel = df1.groupby(['distribution_channel','hotel'])['adr'].mean().reset_index()\n",
        "distribution_channel"
      ],
      "metadata": {
        "id": "mAQTIvtqp1cj"
      },
      "execution_count": null,
      "outputs": []
    },
    {
      "cell_type": "code",
      "source": [
        "# Visualization of contribution of distribution channel in adr using barplot\n",
        "plt.figure(figsize=(14,7))\n",
        "sns.barplot(x='distribution_channel',y='adr', data=distribution_channel,hue='hotel')\n",
        "plt.title('ADR across Distribution channel', fontsize=20)\n",
        "plt.xlabel('Distribution channel',fontsize=15)\n",
        "plt.ylabel('ADR', fontsize=15)"
      ],
      "metadata": {
        "id": "yEA_Mu92uHyD"
      },
      "execution_count": null,
      "outputs": []
    },
    {
      "cell_type": "markdown",
      "source": [
        "##### 1. Why did you pick the specific chart?"
      ],
      "metadata": {
        "id": "X_VqEhTip1ck"
      }
    },
    {
      "cell_type": "markdown",
      "source": [
        "**I choose here barplot to visualise ADR across distribution channel beacuse it give easy to undertand visualization to large data.**"
      ],
      "metadata": {
        "id": "-vsMzt_np1ck"
      }
    },
    {
      "cell_type": "markdown",
      "source": [
        "##### 2. What is/are the insight(s) found from the chart?"
      ],
      "metadata": {
        "id": "8zGJKyg5p1ck"
      }
    },
    {
      "cell_type": "markdown",
      "source": [
        "**The insight found from the above chart is that GDS channel contributed most in ADR in city hotel and Direct and TA/TO has nearly equal contribution in adr in both hotel types.**"
      ],
      "metadata": {
        "id": "ZYdMsrqVp1ck"
      }
    },
    {
      "cell_type": "markdown",
      "source": [
        "##### 3. Will the gained insights help creating a positive business impact?\n",
        "Are there any insights that lead to negative growth? Justify with specific reason."
      ],
      "metadata": {
        "id": "PVzmfK_Ep1ck"
      }
    },
    {
      "cell_type": "markdown",
      "source": [
        "* GDS distribution channel contributed more to adr for city hotel and Undefined distribution channel contributed more to adr for resort hotel this makes positive impact.\n",
        "* GDS distribution channel has no any contribution to adr for resort hotel and undefined distribution channel contributed less to adr for city hotel this makes neative impact.\n",
        "* GDS distribution channel must have increase bookings for resort hotels therefore there contribtuion to adr will increase and income will increase and undefined distribution channel must have increase bookings for city hotels therefore there contribution to adr will increase and income will increase."
      ],
      "metadata": {
        "id": "druuKYZpp1ck"
      }
    },
    {
      "cell_type": "markdown",
      "source": [
        "#### Chart - 12"
      ],
      "metadata": {
        "id": "n3dbpmDWp1ck"
      }
    },
    {
      "cell_type": "code",
      "source": [
        "# Chart - 12 visualization code\n",
        "stay_length = df1.groupby(['total_stay','hotel']).agg('count').reset_index()\n",
        "stay_length = stay_length.iloc[:, :3]\n",
        "stay_length = stay_length.rename(columns={'is_canceled':'Number of stays'})\n",
        "stay_length"
      ],
      "metadata": {
        "id": "bwevp1tKp1ck"
      },
      "execution_count": null,
      "outputs": []
    },
    {
      "cell_type": "code",
      "source": [
        "# Barplot is used for visualization of optimal stay length in hotel type\n",
        "plt.figure(figsize=(14,7))\n",
        "sns.barplot(x='total_stay',y='Number of stays', data=stay_length,hue='hotel')\n",
        "plt.title('Optimal Stay Length in Both hotel types', fontsize=20)\n",
        "plt.xlabel('total_stay in days',fontsize=15)\n",
        "plt.ylabel('count of stays', fontsize=15)\n",
        "plt.show()"
      ],
      "metadata": {
        "id": "NW8q5T2HupUD"
      },
      "execution_count": null,
      "outputs": []
    },
    {
      "cell_type": "markdown",
      "source": [
        "##### 1. Why did you pick the specific chart?"
      ],
      "metadata": {
        "id": "ylSl6qgtp1ck"
      }
    },
    {
      "cell_type": "markdown",
      "source": [
        "**Because it gives simple visualization.**"
      ],
      "metadata": {
        "id": "m2xqNkiQp1ck"
      }
    },
    {
      "cell_type": "markdown",
      "source": [
        "##### 2. What is/are the insight(s) found from the chart?"
      ],
      "metadata": {
        "id": "ZWILFDl5p1ck"
      }
    },
    {
      "cell_type": "markdown",
      "source": [
        "**Optimal stay length in both hotel type is less than 7 days.**"
      ],
      "metadata": {
        "id": "x-lUsV2mp1ck"
      }
    },
    {
      "cell_type": "markdown",
      "source": [
        "##### 3. Will the gained insights help creating a positive business impact?\n",
        "Are there any insights that lead to negative growth? Justify with specific reason."
      ],
      "metadata": {
        "id": "M7G43BXep1ck"
      }
    },
    {
      "cell_type": "markdown",
      "source": [
        "Answer Here"
      ],
      "metadata": {
        "id": "5wwDJXsLp1cl"
      }
    },
    {
      "cell_type": "markdown",
      "source": [
        "#### Chart - 13"
      ],
      "metadata": {
        "id": "Ag9LCva-p1cl"
      }
    },
    {
      "cell_type": "code",
      "source": [
        "# Chart - 13 visualization code\n",
        "repeated_guests = df1[df1['is_repeated_guest']==1]\n",
        "repeated_guests_1 = df1[df1['is_repeated_guest']==0]"
      ],
      "metadata": {
        "id": "EUfxeq9-p1cl"
      },
      "execution_count": null,
      "outputs": []
    },
    {
      "cell_type": "code",
      "source": [
        "plt.figure(figsize=(14,7))\n",
        "sns.barplot(x=df1['is_repeated_guest'],y= df1['previous_bookings_not_canceled'])\n",
        "plt.xticks([0,1],['Not_repeated_guests','repeated_guests'],fontsize=15)\n",
        "plt.xlabel('Is Repeated guests',fontsize=15)\n",
        "plt.ylabel('Previous booking not cancelled', fontsize=15)\n",
        "plt.title('Relationship between repeated guests and previous bookings not cancelled', fontsize=20)\n",
        "plt.show()"
      ],
      "metadata": {
        "id": "1XfLfKD2wK-h"
      },
      "execution_count": null,
      "outputs": []
    },
    {
      "cell_type": "markdown",
      "source": [
        "##### 1. Why did you pick the specific chart?"
      ],
      "metadata": {
        "id": "E6MkPsBcp1cl"
      }
    },
    {
      "cell_type": "markdown",
      "source": [
        "**Because bar plot is easy to understand.**"
      ],
      "metadata": {
        "id": "V22bRsFWp1cl"
      }
    },
    {
      "cell_type": "markdown",
      "source": [
        "##### 2. What is/are the insight(s) found from the chart?"
      ],
      "metadata": {
        "id": "2cELzS2fp1cl"
      }
    },
    {
      "cell_type": "markdown",
      "source": [
        "**The insight found from this chart is that not repeated guests cancel their bookings.**"
      ],
      "metadata": {
        "id": "ozQPc2_Ip1cl"
      }
    },
    {
      "cell_type": "markdown",
      "source": [
        "##### 3. Will the gained insights help creating a positive business impact?\n",
        "Are there any insights that lead to negative growth? Justify with specific reason."
      ],
      "metadata": {
        "id": "3MPXvC8up1cl"
      }
    },
    {
      "cell_type": "markdown",
      "source": [
        "Answer Here"
      ],
      "metadata": {
        "id": "GL8l1tdLp1cl"
      }
    },
    {
      "cell_type": "markdown",
      "source": [
        "#### Chart - 14 - Correlation Heatmap"
      ],
      "metadata": {
        "id": "NC_X3p0fY2L0"
      }
    },
    {
      "cell_type": "code",
      "source": [
        "# Correlation Heatmap visualization code\n",
        "df1.head(2)"
      ],
      "metadata": {
        "id": "xyC9zolEZNRQ"
      },
      "execution_count": null,
      "outputs": []
    },
    {
      "cell_type": "code",
      "source": [
        "# Correlation Heatmap visualization code\n",
        "plt.figure(figsize=(20,10))\n",
        "sns.heatmap(df1.corr(),annot=True)\n",
        "plt.title('Correlation of the columns')\n",
        "plt.show()"
      ],
      "metadata": {
        "id": "K-vuV2OKx8cU"
      },
      "execution_count": null,
      "outputs": []
    },
    {
      "cell_type": "markdown",
      "source": [
        "##### 1. Why did you pick the specific chart?"
      ],
      "metadata": {
        "id": "UV0SzAkaZNRQ"
      }
    },
    {
      "cell_type": "markdown",
      "source": [
        "**I choose heatmap here becuase heatmap display a more eneralized view of neumeric values and also utilize color coded systems.**"
      ],
      "metadata": {
        "id": "DVPuT8LYZNRQ"
      }
    },
    {
      "cell_type": "markdown",
      "source": [
        "##### 2. What is/are the insight(s) found from the chart?"
      ],
      "metadata": {
        "id": "YPEH6qLeZNRQ"
      }
    },
    {
      "cell_type": "markdown",
      "source": [
        "* arrival_date_year and arrival_date_week_number columns has negative correlation which is -0.51.\n",
        "* stays_in_week_nights and total_stay has positive correlation which is 0.95."
      ],
      "metadata": {
        "id": "bfSqtnDqZNRR"
      }
    },
    {
      "cell_type": "markdown",
      "source": [
        "#### Chart - 15 - Pair Plot"
      ],
      "metadata": {
        "id": "q29F0dvdveiT"
      }
    },
    {
      "cell_type": "code",
      "source": [
        "# Pair Plot visualization code"
      ],
      "metadata": {
        "id": "o58-TEIhveiU"
      },
      "execution_count": null,
      "outputs": []
    },
    {
      "cell_type": "markdown",
      "source": [
        "##### 1. Why did you pick the specific chart?"
      ],
      "metadata": {
        "id": "EXh0U9oCveiU"
      }
    },
    {
      "cell_type": "markdown",
      "source": [
        "Answer Here."
      ],
      "metadata": {
        "id": "eMmPjTByveiU"
      }
    },
    {
      "cell_type": "markdown",
      "source": [
        "##### 2. What is/are the insight(s) found from the chart?"
      ],
      "metadata": {
        "id": "22aHeOlLveiV"
      }
    },
    {
      "cell_type": "markdown",
      "source": [
        "Answer Here"
      ],
      "metadata": {
        "id": "uPQ8RGwHveiV"
      }
    },
    {
      "cell_type": "markdown",
      "source": [
        "## **5. Solution to Business Objective**"
      ],
      "metadata": {
        "id": "JcMwzZxoAimU"
      }
    },
    {
      "cell_type": "markdown",
      "source": [
        "#### What do you suggest the client to achieve Business Objective ?\n",
        "Explain Briefly."
      ],
      "metadata": {
        "id": "8G2x9gOozGDZ"
      }
    },
    {
      "cell_type": "markdown",
      "source": [
        "\n",
        "\n",
        "1.   To increase hotel business some factors are important like high revenue, generation, customers satisfaction, facilities provided by hotel etc.\n",
        "2.   I am able to achieve the same things by showing to client which hotel is most preferred , percentage of repeated guests, mostly preferred food by guests, then which hotel has highest adr etc.\n",
        "3. Most preferred room type is achieved by countplot so the client can be well prepare in advance and this insight help client for further enhancement of their hospatility.\n",
        "4. I am able to show which food type is mostly preferred so client can offer the mostly preferred food to the guests.\n",
        "5. Most preferred month are shown by barplot so client can be well prepared in advanced so that minimum grivances would be faced by client.\n",
        "6. Using barplot I am able to show which hotel type has high adr so client can analyse which hotel has high income.\n",
        "7. I am able to show which hotel is busiest hotel sp client can do relatable changes in facilities in less busy hotel type.\n",
        "8. I am able to show the relationship between repeated guests and previous bookings not cancelled so client can preferred repeated guests.\n",
        "9. Using barplot relationship between adr and total number of people is shown so client can preferred maximum number of people.\n",
        "\n"
      ],
      "metadata": {
        "id": "pASKb0qOza21"
      }
    },
    {
      "cell_type": "markdown",
      "source": [
        "# **Conclusion**"
      ],
      "metadata": {
        "id": "gCX9965dhzqZ"
      }
    },
    {
      "cell_type": "markdown",
      "source": [
        "1. City hotel is mostly preferred hotel by guests.\n",
        "2. Agent no. 9 made the most bookings.\n",
        "3. Percentage of repeated guest is less which is 3.86%.\n",
        "4. Room type A is mostly preferred room type.\n",
        "5. Mostly preferred food type is BBtype food.\n",
        "6. August month has most bookings and after august july has most bookings.\n",
        "7. TA/TO distribution channel is mostly used and percentage is 79.13%.\n",
        "8. City hotel has highest ADR. Highest ADR means more revenue.\n",
        "9. 2016 year had highest bookings and bookings were 42313.\n",
        "10. City hotel has higher waiting time means city hotel is busier hotel.\n",
        "11. GDS distribution channel contributed most inADR in city hotel but no contribution in resoert hotel.\n",
        "12. Optimal stay length in both hotel type is less than 7 days.\n",
        "13. Repeated guests do not cancel their bookings but not repeated guests cancel.\n",
        "14. If number of people is more then ADR is also increases means revenue increases.\n",
        "15. arrival_date_year and arrival_date_week_number columns has negative correlation which is -0.51.\n",
        "16. stays_in_weel_nights and total_stays has positive correlation which is 0.95."
      ],
      "metadata": {
        "id": "Fjb1IsQkh3yE"
      }
    },
    {
      "cell_type": "markdown",
      "source": [
        "### ***Hurrah! You have successfully completed your EDA Capstone Project !!!***"
      ],
      "metadata": {
        "id": "gIfDvo9L0UH2"
      }
    }
  ]
}